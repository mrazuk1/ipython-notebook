{
  "nbformat": 4,
  "nbformat_minor": 0,
  "metadata": {
    "colab": {
      "provenance": [],
      "authorship_tag": "ABX9TyOnsTn9i3+0YwRoyTWf6Ptr",
      "include_colab_link": true
    },
    "kernelspec": {
      "name": "python3",
      "display_name": "Python 3"
    },
    "language_info": {
      "name": "python"
    }
  },
  "cells": [
    {
      "cell_type": "markdown",
      "metadata": {
        "id": "view-in-github",
        "colab_type": "text"
      },
      "source": [
        "<a href=\"https://colab.research.google.com/github/mrazuk1/ipython-notebook/blob/main/hw2.ipynb\" target=\"_parent\"><img src=\"https://colab.research.google.com/assets/colab-badge.svg\" alt=\"Open In Colab\"/></a>"
      ]
    },
    {
      "cell_type": "code",
      "execution_count": 44,
      "metadata": {
        "colab": {
          "base_uri": "https://localhost:8080/"
        },
        "id": "3kAYE1MqEQPg",
        "outputId": "74c58439-c6c4-4929-f9b3-507756473912"
      },
      "outputs": [
        {
          "output_type": "stream",
          "name": "stdout",
          "text": [
            "Welcome to the Sorting Hat!\n",
            "Do you like Dumbledore (Y/N): Y\n",
            "Do you like Voldemort (Y/N): Y\n",
            "The Sorting Hat has chosen: Ravenclaw!\n",
            "You belong to Ravenclaw!\n"
          ]
        }
      ],
      "source": [
        "def sorting_hat():\n",
        "    print(\"Welcome to the Sorting Hat!\")\n",
        "\n",
        "    # Ask the user the first question\n",
        "    answer1 = input(\"Do you like Dumbledore (Y/N): \").upper()\n",
        "\n",
        "    # Ask the user the second question\n",
        "    answer2 = input(\"Do you like Voldemort (Y/N): \").upper()\n",
        "\n",
        "    # Sorting Hat logic\n",
        "    if answer1 == 'Y' and answer2 == 'N':\n",
        "        house = \"Gryffindor\"\n",
        "    elif answer1 == 'N' and answer2 == 'Y':\n",
        "        house = \"Slytherin\"\n",
        "    else:\n",
        "        # If the answers don't clearly indicate Gryffindor or Slytherin, we'll decide randomly.\n",
        "        import random\n",
        "        house = random.choice([\"Hufflepuff\", \"Ravenclaw\"])\n",
        "\n",
        "    print(f\"The Sorting Hat has chosen: {house}!\")\n",
        "\n",
        "    return house\n",
        "\n",
        "# Run the sorting hat program\n",
        "selected_house = sorting_hat()\n",
        "print(f\"You belong to {selected_house}!\")\n"
      ]
    },
    {
      "cell_type": "code",
      "source": [
        "import math\n",
        "\n",
        "class mydata:\n",
        "    def __init__(self, numbers):\n",
        "        self.numbers = numbers\n",
        "\n",
        "    def mean(self):\n",
        "        # Calculate the mean\n",
        "        return sum(self.numbers) / len(self.numbers)\n",
        "\n",
        "    def std(self):\n",
        "        # Calculate the standard deviation\n",
        "        mean_value = self.mean()\n",
        "        squared_diff = [(x - mean_value) ** 2 for x in self.numbers]\n",
        "        variance = sum(squared_diff) / len(self.numbers)\n",
        "        std_deviation = math.sqrt(variance)\n",
        "        return std_deviation\n",
        "\n",
        "# Test the mydata class with the given list of numbers\n",
        "x = mydata([1, 2, 7, 5])\n",
        "\n",
        "# Calculate and print the mean and standard deviation\n",
        "mean_result = x.mean()\n",
        "std_result = x.std()\n",
        "\n",
        "print(f\"Mean: {mean_result}\")\n",
        "print(f\"Standard Deviation: {std_result}\")\n"
      ],
      "metadata": {
        "colab": {
          "base_uri": "https://localhost:8080/"
        },
        "id": "traE2xKjKzxQ",
        "outputId": "85539e25-c000-4308-d61f-69d12cd0081d"
      },
      "execution_count": 45,
      "outputs": [
        {
          "output_type": "stream",
          "name": "stdout",
          "text": [
            "Mean: 3.75\n",
            "Standard Deviation: 2.384848003542364\n"
          ]
        }
      ]
    },
    {
      "cell_type": "code",
      "source": [
        "import numpy as np\n",
        "\n",
        "def lag(arr, n):\n",
        "    \"\"\"\n",
        "    Lag the input array by n positions.\n",
        "\n",
        "    Parameters:\n",
        "    - arr: numpy array\n",
        "    - n: integer > 0\n",
        "\n",
        "    Returns:\n",
        "    - lagged array with NaN values at the beginning\n",
        "    \"\"\"\n",
        "    if n <= 0:\n",
        "        raise ValueError(\"Integer n should be greater than 0.\")\n",
        "\n",
        "    # Create a lagged array with NaN values\n",
        "    lagged_array = np.empty_like(arr, dtype=float)\n",
        "    lagged_array[:n] = np.nan\n",
        "    lagged_array[n:] = arr[:-n]\n",
        "\n",
        "    return lagged_array\n",
        "\n",
        "# Test the lag function\n",
        "a = np.array([1, 6, 8, 4])\n",
        "\n",
        "lagged_result_1 = lag(a, 1)\n",
        "lagged_result_2 = lag(a, 2)\n",
        "\n",
        "print(\"Original Array:\", a)\n",
        "print(\"Lagged by 1:\", lagged_result_1)\n",
        "print(\"Lagged by 2:\", lagged_result_2)"
      ],
      "metadata": {
        "colab": {
          "base_uri": "https://localhost:8080/"
        },
        "id": "kCuzP-I4LFsd",
        "outputId": "bbe73366-672e-45e0-ef51-9aeea14a0123"
      },
      "execution_count": 46,
      "outputs": [
        {
          "output_type": "stream",
          "name": "stdout",
          "text": [
            "Original Array: [1 6 8 4]\n",
            "Lagged by 1: [nan  1.  6.  8.]\n",
            "Lagged by 2: [nan nan  1.  6.]\n"
          ]
        }
      ]
    },
    {
      "cell_type": "code",
      "source": [
        "import numpy as np\n",
        "\n",
        "def lagGenerator(n):\n",
        "    \"\"\"\n",
        "    Returns a function that lags a vector by a specific amount.\n",
        "\n",
        "    Parameters:\n",
        "    - n: integer > 0\n",
        "\n",
        "    Returns:\n",
        "    - lag function\n",
        "    \"\"\"\n",
        "    if n <= 0:\n",
        "        raise ValueError(\"Integer n should be greater than 0.\")\n",
        "\n",
        "    # Define and return the lag function using lambda\n",
        "    return lambda arr: np.concatenate([np.full(n, np.nan), arr[:-n]])\n",
        "\n",
        "# Test the lagGenerator function\n",
        "lag_by_2 = lagGenerator(2)\n",
        "\n",
        "# Test the lag function created by lagGenerator\n",
        "a = np.array([1, 6, 8, 4])\n",
        "\n",
        "lagged_result = lag_by_2(a)\n",
        "\n",
        "print(\"Original Array:\", a)\n",
        "print(\"Lagged by 2:\", lagged_result)\n",
        "\n"
      ],
      "metadata": {
        "colab": {
          "base_uri": "https://localhost:8080/"
        },
        "id": "nSMF84DNLcgG",
        "outputId": "f0244ec1-b5e7-4459-cbc2-c6ce3fc93bf2"
      },
      "execution_count": 48,
      "outputs": [
        {
          "output_type": "stream",
          "name": "stdout",
          "text": [
            "Original Array: [1 6 8 4]\n",
            "Lagged by 2: [nan nan  1.  6.]\n"
          ]
        }
      ]
    }
  ]
}